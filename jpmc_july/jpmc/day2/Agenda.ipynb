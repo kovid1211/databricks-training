{
 "cells": [
  {
   "cell_type": "code",
   "execution_count": 0,
   "metadata": {
    "application/vnd.databricks.v1+cell": {
     "cellMetadata": {},
     "inputWidgets": {},
     "nuid": "2b4dee32-92d7-425f-8a5a-48e97bdadd5e",
     "showTitle": false,
     "tableResultSettingsMap": {},
     "title": ""
    }
   },
   "outputs": [],
   "source": [
    "Agenda\n",
    "\n",
    "Lakehouse\n",
    "Table formate: Delta lake, Iceberg\n",
    "lakehouse architecture: bronze, silver, gold\n",
    "type of tables, views, functions\n",
    "workflows: jobs\n",
    "databricks repo\n",
    "---- completed\n",
    "\n",
    "\n",
    "databricks sql\n",
    "pipeline\n",
    "unity catalog\n",
    "dab\n",
    "\n",
    "\n",
    "how to sign up Free edition\n",
    "databricks certification \n",
    "reference \n",
    "feedback\n",
    "download\n"
   ]
  },
  {
   "cell_type": "code",
   "execution_count": 0,
   "metadata": {
    "application/vnd.databricks.v1+cell": {
     "cellMetadata": {},
     "inputWidgets": {},
     "nuid": "81572b2c-c610-461d-a385-c433f3894a24",
     "showTitle": false,
     "tableResultSettingsMap": {},
     "title": ""
    }
   },
   "outputs": [],
   "source": [
    "Thats all for today\n",
    "\n",
    "\n",
    "all good. done for today"
   ]
  }
 ],
 "metadata": {
  "application/vnd.databricks.v1+notebook": {
   "computePreferences": null,
   "dashboards": [],
   "environmentMetadata": {
    "base_environment": "",
    "environment_version": "2"
   },
   "inputWidgetPreferences": null,
   "language": "python",
   "notebookMetadata": {
    "pythonIndentUnit": 4
   },
   "notebookName": "Agenda",
   "widgets": {}
  },
  "language_info": {
   "name": "python"
  }
 },
 "nbformat": 4,
 "nbformat_minor": 0
}
